{
 "cells": [
  {
   "cell_type": "code",
   "execution_count": 1,
   "metadata": {
    "collapsed": false
   },
   "outputs": [
    {
     "name": "stdout",
     "output_type": "stream",
     "text": [
      "Populating the interactive namespace from numpy and matplotlib\n"
     ]
    },
    {
     "name": "stderr",
     "output_type": "stream",
     "text": [
      "/Users/Sebastito/anaconda/lib/python2.7/site-packages/IPython/html.py:14: ShimWarning: The `IPython.html` package has been deprecated. You should import from `notebook` instead. `IPython.html.widgets` has moved to `ipywidgets`.\n",
      "  \"`IPython.html.widgets` has moved to `ipywidgets`.\", ShimWarning)\n"
     ]
    }
   ],
   "source": [
    "import numpy as np\n",
    "import matplotlib.pyplot as plt\n",
    "import sklearn as sk\n",
    "import pandas as pd\n",
    "from sklearn import neural_network\n",
    "from sklearn.model_selection import cross_val_score\n",
    "import seaborn as sns\n",
    "%pylab inline"
   ]
  },
  {
   "cell_type": "markdown",
   "metadata": {},
   "source": [
    "## Data import"
   ]
  },
  {
   "cell_type": "code",
   "execution_count": 2,
   "metadata": {
    "collapsed": false
   },
   "outputs": [
    {
     "data": {
      "text/html": [
       "<div style=\"max-height:1000px;max-width:1500px;overflow:auto;\">\n",
       "<table border=\"1\" class=\"dataframe\">\n",
       "  <thead>\n",
       "    <tr style=\"text-align: right;\">\n",
       "      <th></th>\n",
       "      <th>ident</th>\n",
       "      <th>it</th>\n",
       "      <th>t</th>\n",
       "      <th>a(i)</th>\n",
       "      <th>emegas(i)</th>\n",
       "      <th>emepla(i)/emet</th>\n",
       "      <th>rplanet(i)/radtie</th>\n",
       "      <th>emestar</th>\n",
       "      <th>rc</th>\n",
       "      <th>qest</th>\n",
       "      <th>sigmag_0</th>\n",
       "      <th>emed</th>\n",
       "      <th>gama</th>\n",
       "      <th>apert</th>\n",
       "      <th>fpert</th>\n",
       "      <th>constmigI</th>\n",
       "      <th>emetal</th>\n",
       "      <th>taugas</th>\n",
       "    </tr>\n",
       "  </thead>\n",
       "  <tbody>\n",
       "    <tr>\n",
       "      <th>0</th>\n",
       "      <td> 0</td>\n",
       "      <td> 199993</td>\n",
       "      <td> 20000001</td>\n",
       "      <td> 0.030237</td>\n",
       "      <td> 0.004911</td>\n",
       "      <td> 1.904923</td>\n",
       "      <td>    1.9029824602178687      </td>\n",
       "      <td> 4.368174e+32</td>\n",
       "      <td> 59.88237</td>\n",
       "      <td> 1.110726</td>\n",
       "      <td> 51.287674</td>\n",
       "      <td> 0.13</td>\n",
       "      <td> 1</td>\n",
       "      <td> 0.3</td>\n",
       "      <td> 1</td>\n",
       "      <td> 0.1</td>\n",
       "      <td> 0.07707</td>\n",
       "      <td> 9268935</td>\n",
       "    </tr>\n",
       "    <tr>\n",
       "      <th>1</th>\n",
       "      <td> 0</td>\n",
       "      <td> 199993</td>\n",
       "      <td> 20000001</td>\n",
       "      <td> 0.818832</td>\n",
       "      <td> 0.000238</td>\n",
       "      <td> 1.642056</td>\n",
       "      <td>    1.8150047639338782      </td>\n",
       "      <td> 4.368174e+32</td>\n",
       "      <td> 59.88237</td>\n",
       "      <td> 1.110726</td>\n",
       "      <td> 51.287674</td>\n",
       "      <td> 0.13</td>\n",
       "      <td> 1</td>\n",
       "      <td> 0.3</td>\n",
       "      <td> 1</td>\n",
       "      <td> 0.1</td>\n",
       "      <td> 0.07707</td>\n",
       "      <td> 9268935</td>\n",
       "    </tr>\n",
       "    <tr>\n",
       "      <th>2</th>\n",
       "      <td> 0</td>\n",
       "      <td> 199993</td>\n",
       "      <td> 20000001</td>\n",
       "      <td> 2.124022</td>\n",
       "      <td> 0.000000</td>\n",
       "      <td> 1.786051</td>\n",
       "      <td>    1.8659921485803184      </td>\n",
       "      <td> 4.368174e+32</td>\n",
       "      <td> 59.88237</td>\n",
       "      <td> 1.110726</td>\n",
       "      <td> 51.287674</td>\n",
       "      <td> 0.13</td>\n",
       "      <td> 1</td>\n",
       "      <td> 0.3</td>\n",
       "      <td> 1</td>\n",
       "      <td> 0.1</td>\n",
       "      <td> 0.07707</td>\n",
       "      <td> 9268935</td>\n",
       "    </tr>\n",
       "    <tr>\n",
       "      <th>3</th>\n",
       "      <td> 0</td>\n",
       "      <td> 199993</td>\n",
       "      <td> 20000001</td>\n",
       "      <td> 5.123330</td>\n",
       "      <td> 0.000000</td>\n",
       "      <td> 0.843418</td>\n",
       "      <td>    1.4538852266916131      </td>\n",
       "      <td> 4.368174e+32</td>\n",
       "      <td> 59.88237</td>\n",
       "      <td> 1.110726</td>\n",
       "      <td> 51.287674</td>\n",
       "      <td> 0.13</td>\n",
       "      <td> 1</td>\n",
       "      <td> 0.3</td>\n",
       "      <td> 1</td>\n",
       "      <td> 0.1</td>\n",
       "      <td> 0.07707</td>\n",
       "      <td> 9268935</td>\n",
       "    </tr>\n",
       "    <tr>\n",
       "      <th>4</th>\n",
       "      <td> 0</td>\n",
       "      <td> 199993</td>\n",
       "      <td> 20000001</td>\n",
       "      <td> 6.932367</td>\n",
       "      <td> 0.000000</td>\n",
       "      <td> 0.477013</td>\n",
       "      <td>    1.2031125383842882      </td>\n",
       "      <td> 4.368174e+32</td>\n",
       "      <td> 59.88237</td>\n",
       "      <td> 1.110726</td>\n",
       "      <td> 51.287674</td>\n",
       "      <td> 0.13</td>\n",
       "      <td> 1</td>\n",
       "      <td> 0.3</td>\n",
       "      <td> 1</td>\n",
       "      <td> 0.1</td>\n",
       "      <td> 0.07707</td>\n",
       "      <td> 9268935</td>\n",
       "    </tr>\n",
       "  </tbody>\n",
       "</table>\n",
       "</div>"
      ],
      "text/plain": [
       "   ident      it         t      a(i)  emegas(i)  emepla(i)/emet  \\\n",
       "0      0  199993  20000001  0.030237   0.004911        1.904923   \n",
       "1      0  199993  20000001  0.818832   0.000238        1.642056   \n",
       "2      0  199993  20000001  2.124022   0.000000        1.786051   \n",
       "3      0  199993  20000001  5.123330   0.000000        0.843418   \n",
       "4      0  199993  20000001  6.932367   0.000000        0.477013   \n",
       "\n",
       "             rplanet(i)/radtie       emestar        rc      qest   sigmag_0  \\\n",
       "0     1.9029824602178687        4.368174e+32  59.88237  1.110726  51.287674   \n",
       "1     1.8150047639338782        4.368174e+32  59.88237  1.110726  51.287674   \n",
       "2     1.8659921485803184        4.368174e+32  59.88237  1.110726  51.287674   \n",
       "3     1.4538852266916131        4.368174e+32  59.88237  1.110726  51.287674   \n",
       "4     1.2031125383842882        4.368174e+32  59.88237  1.110726  51.287674   \n",
       "\n",
       "   emed  gama  apert  fpert  constmigI   emetal   taugas  \n",
       "0  0.13     1    0.3      1        0.1  0.07707  9268935  \n",
       "1  0.13     1    0.3      1        0.1  0.07707  9268935  \n",
       "2  0.13     1    0.3      1        0.1  0.07707  9268935  \n",
       "3  0.13     1    0.3      1        0.1  0.07707  9268935  \n",
       "4  0.13     1    0.3      1        0.1  0.07707  9268935  "
      ]
     },
     "execution_count": 2,
     "metadata": {},
     "output_type": "execute_result"
    }
   ],
   "source": [
    "# Loading data from source\n",
    "high = pd.read_csv('data/highp_finalresults.csv')\n",
    "low = pd.read_csv('data/lowp_finalresults.csv')\n",
    "high.head()"
   ]
  },
  {
   "cell_type": "code",
   "execution_count": 3,
   "metadata": {
    "collapsed": false
   },
   "outputs": [
    {
     "data": {
      "text/html": [
       "<div style=\"max-height:1000px;max-width:1500px;overflow:auto;\">\n",
       "<table border=\"1\" class=\"dataframe\">\n",
       "  <thead>\n",
       "    <tr style=\"text-align: right;\">\n",
       "      <th></th>\n",
       "      <th>ident</th>\n",
       "      <th>it</th>\n",
       "      <th>t</th>\n",
       "      <th>a(i)</th>\n",
       "      <th>emegas(i)</th>\n",
       "      <th>emepla(i)/emet</th>\n",
       "      <th>emestar</th>\n",
       "      <th>rc</th>\n",
       "      <th>qest</th>\n",
       "      <th>sigmag_0</th>\n",
       "      <th>emed</th>\n",
       "      <th>gama</th>\n",
       "      <th>apert</th>\n",
       "      <th>fpert</th>\n",
       "      <th>constmigI</th>\n",
       "      <th>emetal</th>\n",
       "      <th>taugas</th>\n",
       "    </tr>\n",
       "  </thead>\n",
       "  <tbody>\n",
       "    <tr>\n",
       "      <th>count</th>\n",
       "      <td> 32465.000000</td>\n",
       "      <td>  32465.000000</td>\n",
       "      <td>    32465</td>\n",
       "      <td> 32465.000000</td>\n",
       "      <td> 3.246500e+04</td>\n",
       "      <td> 32465.000000</td>\n",
       "      <td> 3.246500e+04</td>\n",
       "      <td> 32465.000000</td>\n",
       "      <td> 32465.000000</td>\n",
       "      <td> 32465.000000</td>\n",
       "      <td> 32465.000000</td>\n",
       "      <td> 32465</td>\n",
       "      <td> 32465.0</td>\n",
       "      <td> 32465</td>\n",
       "      <td> 3.246500e+04</td>\n",
       "      <td> 32465.000000</td>\n",
       "      <td>   32465.000000</td>\n",
       "    </tr>\n",
       "    <tr>\n",
       "      <th>mean</th>\n",
       "      <td>  1483.424457</td>\n",
       "      <td> 197467.410966</td>\n",
       "      <td> 20000001</td>\n",
       "      <td>     3.400574</td>\n",
       "      <td> 7.167241e+00</td>\n",
       "      <td>     7.630333</td>\n",
       "      <td> 5.749874e+32</td>\n",
       "      <td>    45.545752</td>\n",
       "      <td>     5.963431</td>\n",
       "      <td>    32.194985</td>\n",
       "      <td>     0.043325</td>\n",
       "      <td>     1</td>\n",
       "      <td>     0.3</td>\n",
       "      <td>     1</td>\n",
       "      <td> 1.000000e-01</td>\n",
       "      <td>    -0.001367</td>\n",
       "      <td> 3801386.541862</td>\n",
       "    </tr>\n",
       "    <tr>\n",
       "      <th>std</th>\n",
       "      <td>   859.799152</td>\n",
       "      <td>   8122.269582</td>\n",
       "      <td>        0</td>\n",
       "      <td>     3.696724</td>\n",
       "      <td> 2.198142e+02</td>\n",
       "      <td>   219.589599</td>\n",
       "      <td> 2.784088e+32</td>\n",
       "      <td>     8.270644</td>\n",
       "      <td>     4.245843</td>\n",
       "      <td>    33.406671</td>\n",
       "      <td>     0.039576</td>\n",
       "      <td>     0</td>\n",
       "      <td>     0.0</td>\n",
       "      <td>     0</td>\n",
       "      <td> 1.871346e-09</td>\n",
       "      <td>     0.211647</td>\n",
       "      <td> 2503499.813300</td>\n",
       "    </tr>\n",
       "    <tr>\n",
       "      <th>min</th>\n",
       "      <td>     0.000000</td>\n",
       "      <td>   9292.000000</td>\n",
       "      <td> 20000001</td>\n",
       "      <td>     0.002813</td>\n",
       "      <td> 0.000000e+00</td>\n",
       "      <td>     0.050002</td>\n",
       "      <td> 2.005149e+32</td>\n",
       "      <td>    25.340290</td>\n",
       "      <td>     1.007152</td>\n",
       "      <td>     1.515903</td>\n",
       "      <td>     0.003100</td>\n",
       "      <td>     1</td>\n",
       "      <td>     0.3</td>\n",
       "      <td>     1</td>\n",
       "      <td> 1.000000e-01</td>\n",
       "      <td>    -0.688720</td>\n",
       "      <td> 1001011.375000</td>\n",
       "    </tr>\n",
       "    <tr>\n",
       "      <th>25%</th>\n",
       "      <td>   739.000000</td>\n",
       "      <td> 198311.000000</td>\n",
       "      <td> 20000001</td>\n",
       "      <td>     0.913345</td>\n",
       "      <td> 0.000000e+00</td>\n",
       "      <td>     0.098376</td>\n",
       "      <td> 3.379212e+32</td>\n",
       "      <td>    39.816555</td>\n",
       "      <td>     2.955550</td>\n",
       "      <td>    12.484508</td>\n",
       "      <td>     0.019000</td>\n",
       "      <td>     1</td>\n",
       "      <td>     0.3</td>\n",
       "      <td>     1</td>\n",
       "      <td> 1.000000e-01</td>\n",
       "      <td>    -0.145420</td>\n",
       "      <td> 1687664.250000</td>\n",
       "    </tr>\n",
       "    <tr>\n",
       "      <th>50%</th>\n",
       "      <td>  1484.000000</td>\n",
       "      <td> 199620.000000</td>\n",
       "      <td> 20000001</td>\n",
       "      <td>     2.140342</td>\n",
       "      <td> 0.000000e+00</td>\n",
       "      <td>     0.229774</td>\n",
       "      <td> 5.161603e+32</td>\n",
       "      <td>    44.740940</td>\n",
       "      <td>     4.808668</td>\n",
       "      <td>    21.058982</td>\n",
       "      <td>     0.030000</td>\n",
       "      <td>     1</td>\n",
       "      <td>     0.3</td>\n",
       "      <td>     1</td>\n",
       "      <td> 1.000000e-01</td>\n",
       "      <td>     0.000306</td>\n",
       "      <td> 2998146.500000</td>\n",
       "    </tr>\n",
       "    <tr>\n",
       "      <th>75%</th>\n",
       "      <td>  2227.000000</td>\n",
       "      <td> 199907.000000</td>\n",
       "      <td> 20000001</td>\n",
       "      <td>     4.670935</td>\n",
       "      <td> 2.295691e-10</td>\n",
       "      <td>     0.669832</td>\n",
       "      <td> 7.774028e+32</td>\n",
       "      <td>    50.544758</td>\n",
       "      <td>     7.681329</td>\n",
       "      <td>    39.672398</td>\n",
       "      <td>     0.054000</td>\n",
       "      <td>     1</td>\n",
       "      <td>     0.3</td>\n",
       "      <td>     1</td>\n",
       "      <td> 1.000000e-01</td>\n",
       "      <td>     0.143216</td>\n",
       "      <td> 5405266.000000</td>\n",
       "    </tr>\n",
       "    <tr>\n",
       "      <th>max</th>\n",
       "      <td>  2974.000000</td>\n",
       "      <td> 199999.000000</td>\n",
       "      <td> 20000001</td>\n",
       "      <td>    37.368091</td>\n",
       "      <td> 1.963193e+04</td>\n",
       "      <td> 19634.764964</td>\n",
       "      <td> 1.198218e+33</td>\n",
       "      <td>    91.153824</td>\n",
       "      <td>    48.223476</td>\n",
       "      <td>   372.454042</td>\n",
       "      <td>     0.320000</td>\n",
       "      <td>     1</td>\n",
       "      <td>     0.3</td>\n",
       "      <td>     1</td>\n",
       "      <td> 1.000000e-01</td>\n",
       "      <td>     0.774710</td>\n",
       "      <td> 9985367.000000</td>\n",
       "    </tr>\n",
       "  </tbody>\n",
       "</table>\n",
       "</div>"
      ],
      "text/plain": [
       "              ident             it         t          a(i)     emegas(i)  \\\n",
       "count  32465.000000   32465.000000     32465  32465.000000  3.246500e+04   \n",
       "mean    1483.424457  197467.410966  20000001      3.400574  7.167241e+00   \n",
       "std      859.799152    8122.269582         0      3.696724  2.198142e+02   \n",
       "min        0.000000    9292.000000  20000001      0.002813  0.000000e+00   \n",
       "25%      739.000000  198311.000000  20000001      0.913345  0.000000e+00   \n",
       "50%     1484.000000  199620.000000  20000001      2.140342  0.000000e+00   \n",
       "75%     2227.000000  199907.000000  20000001      4.670935  2.295691e-10   \n",
       "max     2974.000000  199999.000000  20000001     37.368091  1.963193e+04   \n",
       "\n",
       "       emepla(i)/emet       emestar            rc          qest      sigmag_0  \\\n",
       "count    32465.000000  3.246500e+04  32465.000000  32465.000000  32465.000000   \n",
       "mean         7.630333  5.749874e+32     45.545752      5.963431     32.194985   \n",
       "std        219.589599  2.784088e+32      8.270644      4.245843     33.406671   \n",
       "min          0.050002  2.005149e+32     25.340290      1.007152      1.515903   \n",
       "25%          0.098376  3.379212e+32     39.816555      2.955550     12.484508   \n",
       "50%          0.229774  5.161603e+32     44.740940      4.808668     21.058982   \n",
       "75%          0.669832  7.774028e+32     50.544758      7.681329     39.672398   \n",
       "max      19634.764964  1.198218e+33     91.153824     48.223476    372.454042   \n",
       "\n",
       "               emed   gama    apert  fpert     constmigI        emetal  \\\n",
       "count  32465.000000  32465  32465.0  32465  3.246500e+04  32465.000000   \n",
       "mean       0.043325      1      0.3      1  1.000000e-01     -0.001367   \n",
       "std        0.039576      0      0.0      0  1.871346e-09      0.211647   \n",
       "min        0.003100      1      0.3      1  1.000000e-01     -0.688720   \n",
       "25%        0.019000      1      0.3      1  1.000000e-01     -0.145420   \n",
       "50%        0.030000      1      0.3      1  1.000000e-01      0.000306   \n",
       "75%        0.054000      1      0.3      1  1.000000e-01      0.143216   \n",
       "max        0.320000      1      0.3      1  1.000000e-01      0.774710   \n",
       "\n",
       "               taugas  \n",
       "count    32465.000000  \n",
       "mean   3801386.541862  \n",
       "std    2503499.813300  \n",
       "min    1001011.375000  \n",
       "25%    1687664.250000  \n",
       "50%    2998146.500000  \n",
       "75%    5405266.000000  \n",
       "max    9985367.000000  "
      ]
     },
     "execution_count": 3,
     "metadata": {},
     "output_type": "execute_result"
    }
   ],
   "source": [
    "high.describe()"
   ]
  },
  {
   "cell_type": "markdown",
   "metadata": {},
   "source": [
    "## Data handling \n",
    "\n",
    "---\n",
    "\n",
    "Data are organized in such way that each observation represent a formed planet. We have to collapse data by planetary systems ($ident$). However, before do this we should verify that variables don't have variation between systems. At the end, we must create the final variables to predict:\n",
    "\n",
    "Variables:\n",
    "\n",
    "    1. Number of planets.\n",
    "    2. Planets total mass.\n",
    "    3. Mass efficiency.\n",
    "\n",
    "Tasks:\n",
    "    1. Create final variables.\n",
    "    2. Collapse data by $ident$\n",
    "\n",
    "### Non-Relevant variables\n",
    "\n",
    "There are several variables in each dataFrame that don't give extra information because those don't have variance over the set, for example:\n",
    "    \n",
    "    1. t.\n",
    "    2. gama.\n",
    "    3. fpert.\n",
    "    4. constmigI.\n",
    "    \n",
    "So we can drop them. Futhermore, we can ignore $ident$ information because system identifier should not give any information about the dependet variables.\n",
    "\n",
    "----\n",
    "\n",
    "In the case of the variable $apert$ we have no variation inside sets but variation between groups (high & low). It should be usuful to check if this variable has effect over the dependent variables in order to include $apert$ as a relevant varaible to explain planetary formation. \n",
    "\n",
    "As the sets are divided by $apert$ we have to check if there is a statistical difference over the dependent variables. In order to do that we will use sampling techniques to verify this hypotesis. "
   ]
  },
  {
   "cell_type": "code",
   "execution_count": 4,
   "metadata": {
    "collapsed": false
   },
   "outputs": [],
   "source": [
    "def collapse_by_system(dataFrame):\n",
    "    ident_systems = np.unique(dataFrame['ident'])\n",
    "    num_systems = len(ident_systems)\n",
    "    print('There is only '+ str(num_systems),'non-empty observations (systems).')\n",
    "    dataFrame_systems = pd.DataFrame(np.nan, index = range(0,0), columns = dataFrame.columns ) \n",
    "\n",
    "    num_planets = np.zeros(num_systems)\n",
    "    solid_mass = np.zeros(num_systems)\n",
    "    mass_efficiency = np.zeros(num_systems)\n",
    "    for sys in range(0,num_systems):\n",
    "        system = ident_systems[sys]\n",
    "        actual = dataFrame[dataFrame['ident'] == system]\n",
    "        num_planets[sys] = actual['ident'].count()\n",
    "        solid_mass[sys] = sum(actual['emepla(i)/emet'])\n",
    "        mass_efficiency[sys] = solid_mass[sys]/np.min(actual['emed'])\n",
    "        dataFrame_systems.loc[sys,:] = actual.iloc[0,:]\n",
    "    \n",
    "    dataFrame_systems['num_planets'] = num_planets\n",
    "    dataFrame_systems['solid_mass'] = solid_mass\n",
    "    dataFrame_systems['mass_efficiency'] = mass_efficiency\n",
    "    \n",
    "    Y_dataFrame = dataFrame_systems[['num_planets','solid_mass','mass_efficiency']]\n",
    "    X_dataFrame = dataFrame_systems[['it', 'emestar', 'rc', 'qest', 'sigmag_0', 'emed', 'apert', 'emetal','taugas']]\n",
    "    return X_dataFrame, Y_dataFrame"
   ]
  },
  {
   "cell_type": "code",
   "execution_count": 5,
   "metadata": {
    "collapsed": false
   },
   "outputs": [
    {
     "name": "stdout",
     "output_type": "stream",
     "text": [
      "('There is only 2770', 'non-empty observations (systems).')\n"
     ]
    }
   ],
   "source": [
    "X_high,Y_high = collapse_by_system(high)"
   ]
  },
  {
   "cell_type": "code",
   "execution_count": 6,
   "metadata": {
    "collapsed": false
   },
   "outputs": [
    {
     "name": "stdout",
     "output_type": "stream",
     "text": [
      "('There is only 2735', 'non-empty observations (systems).')\n"
     ]
    }
   ],
   "source": [
    "X_low,Y_low = collapse_by_system(low)"
   ]
  },
  {
   "cell_type": "code",
   "execution_count": 7,
   "metadata": {
    "collapsed": true
   },
   "outputs": [],
   "source": [
    "# Save new data\n",
    "X_low.to_csv('data/X_low.csv',index = False)\n",
    "Y_low.to_csv('data/Y_low.csv',index = False)\n",
    "X_high.to_csv('data/X_high.csv',index = False)\n",
    "Y_high.to_csv('data/Y_high.csv',index = False)"
   ]
  },
  {
   "cell_type": "markdown",
   "metadata": {},
   "source": [
    "# Import data with numpy"
   ]
  },
  {
   "cell_type": "code",
   "execution_count": 8,
   "metadata": {
    "collapsed": true
   },
   "outputs": [],
   "source": [
    "from sklearn import svm\n",
    "from sklearn import datasets\n",
    "from sklearn.datasets import make_classification\n",
    "from sklearn.model_selection import train_test_split\n",
    "from sklearn.metrics import confusion_matrix\n",
    "from sklearn.ensemble import RandomForestClassifier"
   ]
  },
  {
   "cell_type": "code",
   "execution_count": 9,
   "metadata": {
    "collapsed": false
   },
   "outputs": [],
   "source": [
    "X_low=np.genfromtxt('data/X_low.csv', delimiter=',', dtype='float', skip_header=1)\n",
    "Y_low=np.genfromtxt('data/Y_low.csv', delimiter=',', dtype='float', skip_header=1)\n",
    "X_high=np.genfromtxt('data/X_high.csv', delimiter=',', dtype='float', skip_header=1)\n",
    "Y_high=np.genfromtxt('data/Y_high.csv', delimiter=',', dtype='float', skip_header=1)\n",
    "X_low=np.delete(X_low, 6, axis=1)\n",
    "X_high=np.delete(X_high, 6, axis=1)"
   ]
  },
  {
   "cell_type": "code",
   "execution_count": 10,
   "metadata": {
    "collapsed": false
   },
   "outputs": [],
   "source": [
    "scax_low = sk.preprocessing.StandardScaler().fit(X_low)\n",
    "scax_high = sk.preprocessing.StandardScaler().fit(X_high)\n",
    "scay_low = sk.preprocessing.StandardScaler().fit(Y_low)\n",
    "scay_high = sk.preprocessing.StandardScaler().fit(Y_high)\n",
    "\n",
    "X_low=scax_low.transform(X_low)\n",
    "X_high=scax_high.transform(X_high)\n",
    "Y_low=scay_low.transform(Y_low)\n",
    "Y_high=scay_high.transform(Y_high)"
   ]
  },
  {
   "cell_type": "markdown",
   "metadata": {},
   "source": [
    "# Regularization-Low (Punto 2)"
   ]
  },
  {
   "cell_type": "markdown",
   "metadata": {
    "collapsed": false
   },
   "source": [
    "# Correspondance between attribute number/value\n",
    " 0 -> Iteration index. \n",
    " 1 -> Stellar mass.\n",
    " 2 -> Disk outer cutoff radius.\n",
    " 3 -> Toomre Q at min radius.\n",
    " 4 -> Maximum dust surface density.\n",
    " 5 -> Disk mass.\n",
    " 6 -> Metallicity wrt solar.\n",
    " 7 -> Gas dissipation timescale."
   ]
  },
  {
   "cell_type": "code",
   "execution_count": 11,
   "metadata": {
    "collapsed": true
   },
   "outputs": [],
   "source": [
    "from sklearn import linear_model\n",
    "from sklearn.metrics import r2_score"
   ]
  },
  {
   "cell_type": "code",
   "execution_count": 12,
   "metadata": {
    "collapsed": false
   },
   "outputs": [],
   "source": [
    "def relative_importance(coefs):\n",
    "    coe=np.abs(coefs)\n",
    "    tot=float(np.sum(coe))\n",
    "    for i in range(len(coe)):\n",
    "        donde=np.where(coe==np.max(coe))[0][0]\n",
    "        imp=coe[donde]/tot *100\n",
    "        print \"El atributo \" + str(donde) + \". Tiene importancia relativa de: \" + str(round(imp,2)) + \"%\"\n",
    "        coe[donde]=-1"
   ]
  },
  {
   "cell_type": "code",
   "execution_count": 13,
   "metadata": {
    "collapsed": false,
    "scrolled": true
   },
   "outputs": [
    {
     "data": {
      "image/png": "[encoded data removed]",
      "text/plain": [
       "<matplotlib.figure.Figure at 0x10234bf10>"
      ]
     },
     "metadata": {},
     "output_type": "display_data"
    },
    {
     "name": "stdout",
     "output_type": "stream",
     "text": [
      "Para la prediccion de numero de planetas para sistemas con baja perturbacion (lambda = 0.01): \n",
      "\n",
      "El atributo 0. Tiene importancia relativa de: 43.14%\n",
      "El atributo 5. Tiene importancia relativa de: 18.04%\n",
      "El atributo 1. Tiene importancia relativa de: 15.05%\n",
      "El atributo 7. Tiene importancia relativa de: 11.9%\n",
      "El atributo 4. Tiene importancia relativa de: 4.17%\n",
      "El atributo 2. Tiene importancia relativa de: 3.26%\n",
      "El atributo 3. Tiene importancia relativa de: 3.17%\n",
      "El atributo 6. Tiene importancia relativa de: 1.27%\n"
     ]
    }
   ],
   "source": [
    "N=100\n",
    "L=0.5\n",
    "matrix = np.zeros((8,N))\n",
    "alphas = np.linspace(0.01,L,N)\n",
    "\n",
    "for i in range(len(alphas)):\n",
    "    clf = linear_model.Lasso(alpha=alphas[i])\n",
    "    clf.fit(X_low, Y_low[:,0])\n",
    "    matrix[:,i]=clf.coef_\n",
    "\n",
    "plt.figure(figsize=(12,8))\n",
    "for j in range(8):\n",
    "    plt.plot(alphas, matrix[j,:], lw=2, alpha=0.8, label=r\"$\\beta $ \"+str(j))\n",
    "plt.legend(framealpha=0.5)\n",
    "plt.grid()\n",
    "plt.xlabel(r\"$\\lambda$\", fontsize=16)\n",
    "plt.ylabel(r\"Coeficiente\", fontsize=16)\n",
    "plt.title(r\"Dependencia de los coeficientes LASSO con $\\lambda$\", fontsize=18)\n",
    "plt.show()\n",
    "plt.close()\n",
    "\n",
    "print \"Para la prediccion de numero de planetas para sistemas con baja perturbacion (lambda = 0.01): \\n\"\n",
    "relative_importance(matrix[:,0])"
   ]
  },
  {
   "cell_type": "code",
   "execution_count": 14,
   "metadata": {
    "collapsed": false,
    "scrolled": true
   },
   "outputs": [
    {
     "data": {
      "image/png": "[encoded data removed]",
      "text/plain": [
       "<matplotlib.figure.Figure at 0x10ca44fd0>"
      ]
     },
     "metadata": {},
     "output_type": "display_data"
    },
    {
     "name": "stdout",
     "output_type": "stream",
     "text": [
      "Para la prediccion de masa total para sistemas con baja perturbacion (lambda = 0.01): \n",
      "\n",
      "El atributo 5. Tiene importancia relativa de: 43.04%\n",
      "El atributo 4. Tiene importancia relativa de: 20.81%\n",
      "El atributo 6. Tiene importancia relativa de: 13.73%\n",
      "El atributo 3. Tiene importancia relativa de: 11.63%\n",
      "El atributo 0. Tiene importancia relativa de: 6.59%\n",
      "El atributo 7. Tiene importancia relativa de: 2.95%\n",
      "El atributo 1. Tiene importancia relativa de: 1.23%\n",
      "El atributo 2. Tiene importancia relativa de: 0.0%\n"
     ]
    }
   ],
   "source": [
    "for i in range(len(alphas)):\n",
    "    clf = linear_model.Lasso(alpha=alphas[i])\n",
    "    clf.fit(X_low, Y_low[:,1])\n",
    "    matrix[:,i]=clf.coef_\n",
    "\n",
    "plt.figure(figsize=(12,8))\n",
    "for j in range(8):\n",
    "    plt.plot(alphas, matrix[j,:], lw=1, label=r\"$\\beta$ \"+str(j))\n",
    "plt.legend(framealpha=0.5)\n",
    "plt.grid()\n",
    "plt.xlabel(r\"$\\lambda$\", fontsize=16)\n",
    "plt.ylabel(r\"Coeficiente\", fontsize=16)\n",
    "plt.title(r\"Dependencia de los coeficientes LASSO con $\\lambda$\", fontsize=18)\n",
    "plt.show()\n",
    "plt.close()\n",
    "\n",
    "print \"Para la prediccion de masa total para sistemas con baja perturbacion (lambda = 0.01): \\n\"\n",
    "relative_importance(matrix[:,0])"
   ]
  },
  {
   "cell_type": "code",
   "execution_count": 15,
   "metadata": {
    "collapsed": false,
    "scrolled": false
   },
   "outputs": [
    {
     "data": {
      "image/png": "[encoded data removed]",
      "text/plain": [
       "<matplotlib.figure.Figure at 0x10d0985d0>"
      ]
     },
     "metadata": {},
     "output_type": "display_data"
    },
    {
     "name": "stdout",
     "output_type": "stream",
     "text": [
      "Para la prediccion de la eficiencia de masa para sistemas con baja perturbacion (lambda = 0.01): \n",
      "\n",
      "El atributo 4. Tiene importancia relativa de: 31.73%\n",
      "El atributo 5. Tiene importancia relativa de: 24.55%\n",
      "El atributo 6. Tiene importancia relativa de: 21.33%\n",
      "El atributo 0. Tiene importancia relativa de: 8.31%\n",
      "El atributo 1. Tiene importancia relativa de: 7.15%\n",
      "El atributo 3. Tiene importancia relativa de: 3.46%\n",
      "El atributo 7. Tiene importancia relativa de: 3.19%\n",
      "El atributo 2. Tiene importancia relativa de: 0.28%\n"
     ]
    }
   ],
   "source": [
    "for i in range(len(alphas)):\n",
    "    clf = linear_model.Lasso(alpha=alphas[i])\n",
    "    clf.fit(X_low, Y_low[:,2])\n",
    "    matrix[:,i]=clf.coef_\n",
    "\n",
    "plt.figure(figsize=(12,8))\n",
    "for j in range(8):\n",
    "    plt.plot(alphas, matrix[j,:], lw=1, label=r\"$\\beta $ \"+str(j))\n",
    "plt.legend(framealpha=0.5)\n",
    "plt.grid()\n",
    "plt.xlabel(r\"$\\lambda$\", fontsize=16)\n",
    "plt.ylabel(r\"Coeficiente\", fontsize=16)\n",
    "plt.title(r\"Dependencia de los coeficientes LASSO con $\\lambda$\", fontsize=18)\n",
    "plt.show()\n",
    "plt.close()\n",
    "\n",
    "print \"Para la prediccion de la eficiencia de masa para sistemas con baja perturbacion (lambda = 0.01): \\n\"\n",
    "relative_importance(matrix[:,0])"
   ]
  },
  {
   "cell_type": "markdown",
   "metadata": {},
   "source": [
    "# Regularization-High"
   ]
  },
  {
   "cell_type": "code",
   "execution_count": 16,
   "metadata": {
    "collapsed": false,
    "scrolled": true
   },
   "outputs": [
    {
     "data": {
      "image/png": "[encoded data removed]",
      "text/plain": [
       "<matplotlib.figure.Figure at 0x10dac5110>"
      ]
     },
     "metadata": {},
     "output_type": "display_data"
    },
    {
     "name": "stdout",
     "output_type": "stream",
     "text": [
      "Para la prediccion de numero de planetas para sistemas con alta perturbacion (lambda = 0.01): \n",
      "\n",
      "El atributo 0. Tiene importancia relativa de: 43.25%\n",
      "El atributo 7. Tiene importancia relativa de: 17.61%\n",
      "El atributo 5. Tiene importancia relativa de: 16.76%\n",
      "El atributo 1. Tiene importancia relativa de: 6.91%\n",
      "El atributo 3. Tiene importancia relativa de: 6.41%\n",
      "El atributo 4. Tiene importancia relativa de: 4.59%\n",
      "El atributo 2. Tiene importancia relativa de: 3.59%\n",
      "El atributo 6. Tiene importancia relativa de: 0.87%\n"
     ]
    }
   ],
   "source": [
    "for i in range(len(alphas)):\n",
    "    clf = linear_model.Lasso(alpha=alphas[i])\n",
    "    clf.fit(X_high, Y_high[:,0])\n",
    "    matrix[:,i]=clf.coef_\n",
    "\n",
    "plt.figure(figsize=(12,8))\n",
    "for j in range(8):\n",
    "    plt.plot(alphas, matrix[j,:], lw=2, alpha=0.8, label=r\"$\\beta $ \"+str(j))\n",
    "plt.legend(framealpha=0.5)\n",
    "plt.grid()\n",
    "plt.xlabel(r\"$\\lambda$\", fontsize=16)\n",
    "plt.ylabel(r\"Coeficiente\", fontsize=16)\n",
    "plt.title(r\"Dependencia de los coeficientes LASSO con $\\lambda$\", fontsize=18)\n",
    "plt.show()\n",
    "plt.close()\n",
    "\n",
    "print \"Para la prediccion de numero de planetas para sistemas con alta perturbacion (lambda = 0.01): \\n\"\n",
    "relative_importance(matrix[:,0])"
   ]
  },
  {
   "cell_type": "code",
   "execution_count": 17,
   "metadata": {
    "collapsed": false,
    "scrolled": true
   },
   "outputs": [
    {
     "data": {
      "image/png": "[encoded data removed]",
      "text/plain": [
       "<matplotlib.figure.Figure at 0x10d202fd0>"
      ]
     },
     "metadata": {},
     "output_type": "display_data"
    },
    {
     "name": "stdout",
     "output_type": "stream",
     "text": [
      "Para la prediccion de masa total para sistemas con alta perturbacion (lambda = 0.01): \n",
      "\n",
      "El atributo 4. Tiene importancia relativa de: 52.78%\n",
      "El atributo 6. Tiene importancia relativa de: 11.38%\n",
      "El atributo 2. Tiene importancia relativa de: 10.04%\n",
      "El atributo 3. Tiene importancia relativa de: 7.71%\n",
      "El atributo 7. Tiene importancia relativa de: 7.46%\n",
      "El atributo 5. Tiene importancia relativa de: 5.4%\n",
      "El atributo 0. Tiene importancia relativa de: 4.61%\n",
      "El atributo 1. Tiene importancia relativa de: 0.61%\n"
     ]
    }
   ],
   "source": [
    "for i in range(len(alphas)):\n",
    "    clf = linear_model.Lasso(alpha=alphas[i])\n",
    "    clf.fit(X_high, Y_high[:,1])\n",
    "    matrix[:,i]=clf.coef_\n",
    "\n",
    "plt.figure(figsize=(12,8))\n",
    "for j in range(8):\n",
    "    plt.plot(alphas, matrix[j,:], lw=2, alpha=0.8, label=r\"$\\beta $ \"+str(j))\n",
    "plt.legend(framealpha=0.5)\n",
    "plt.grid()\n",
    "plt.xlabel(r\"$\\lambda$\", fontsize=16)\n",
    "plt.ylabel(r\"Coeficiente\", fontsize=16)\n",
    "plt.title(r\"Dependencia de los coeficientes LASSO con $\\lambda$\", fontsize=18)\n",
    "plt.show()\n",
    "plt.close()\n",
    "\n",
    "print \"Para la prediccion de masa total para sistemas con alta perturbacion (lambda = 0.01): \\n\"\n",
    "relative_importance(matrix[:,0])"
   ]
  },
  {
   "cell_type": "code",
   "execution_count": 18,
   "metadata": {
    "collapsed": false,
    "scrolled": true
   },
   "outputs": [
    {
     "data": {
      "image/png": "[encoded data removed]",
      "text/plain": [
       "<matplotlib.figure.Figure at 0x10d998690>"
      ]
     },
     "metadata": {},
     "output_type": "display_data"
    },
    {
     "name": "stdout",
     "output_type": "stream",
     "text": [
      "Para la prediccion de la eficiencia de masa para sistemas con baja perturbacion (lambda = 0.01): \n",
      "\n",
      "El atributo 4. Tiene importancia relativa de: 46.18%\n",
      "El atributo 6. Tiene importancia relativa de: 20.74%\n",
      "El atributo 1. Tiene importancia relativa de: 12.78%\n",
      "El atributo 7. Tiene importancia relativa de: 8.43%\n",
      "El atributo 0. Tiene importancia relativa de: 7.06%\n",
      "El atributo 2. Tiene importancia relativa de: 4.8%\n",
      "El atributo 3. Tiene importancia relativa de: 0.0%\n",
      "El atributo 5. Tiene importancia relativa de: 0.0%\n"
     ]
    }
   ],
   "source": [
    "for i in range(len(alphas)):\n",
    "    clf = linear_model.Lasso(alpha=alphas[i])\n",
    "    clf.fit(X_high, Y_high[:,2])\n",
    "    matrix[:,i]=clf.coef_\n",
    "\n",
    "plt.figure(figsize=(12,8))\n",
    "for j in range(8):\n",
    "    plt.plot(alphas, matrix[j,:], lw=2, alpha=0.8, label=r\"$\\beta $ \"+str(j))\n",
    "plt.legend(framealpha=0.5)\n",
    "plt.grid()\n",
    "plt.xlabel(r\"$\\lambda$\", fontsize=16)\n",
    "plt.ylabel(r\"Coeficiente\", fontsize=16)\n",
    "plt.title(r\"Dependencia de los coeficientes LASSO con $\\lambda$\", fontsize=18)\n",
    "plt.show()\n",
    "plt.close()\n",
    "\n",
    "print \"Para la prediccion de la eficiencia de masa para sistemas con baja perturbacion (lambda = 0.01): \\n\"\n",
    "relative_importance(matrix[:,0])"
   ]
  },
  {
   "cell_type": "markdown",
   "metadata": {},
   "source": [
    "# Punto 1"
   ]
  },
  {
   "cell_type": "markdown",
   "metadata": {},
   "source": [
    "# Train, test, and validation test preparation"
   ]
  },
  {
   "cell_type": "code",
   "execution_count": 19,
   "metadata": {
    "collapsed": false
   },
   "outputs": [],
   "source": [
    "from sklearn.preprocessing import PolynomialFeatures\n",
    "\n",
    "X_low_train, X_low_val, Y_low_train, Y_low_val = train_test_split(X_low, Y_low, train_size=0.80, random_state=1)\n",
    "X_low_train, X_low_test, Y_low_train, Y_low_test = train_test_split(X_low_train, Y_low_train, train_size=0.80, random_state=2)\n",
    "\n",
    "X_high_train, X_high_val, Y_high_train, Y_high_val = train_test_split(X_high, Y_high, train_size=0.80, random_state=3)\n",
    "X_high_train, X_high_test, Y_high_train, Y_high_test = train_test_split(X_high_train, Y_high_train, train_size=0.80, random_state=4)"
   ]
  },
  {
   "cell_type": "markdown",
   "metadata": {},
   "source": [
    "# Polynomial fit"
   ]
  },
  {
   "cell_type": "code",
   "execution_count": 20,
   "metadata": {
    "collapsed": false
   },
   "outputs": [],
   "source": [
    "def ajuste_poli(X_train, X_test, Y_train, Y_test, alfa, grado):\n",
    "    poly = PolynomialFeatures(degree=grado)\n",
    "    X_high_train_trans=poly.fit_transform(X_train)\n",
    "    X_high_test_trans=poly.fit_transform(X_test)\n",
    "\n",
    "    clf=linear_model.Lasso(alpha=alfa)\n",
    "    clf.fit(X_high_train_trans, Y_train)\n",
    "    \n",
    "    return clf.score(X_high_test_trans, Y_test)"
   ]
  },
  {
   "cell_type": "code",
   "execution_count": 21,
   "metadata": {
    "collapsed": false,
    "scrolled": true
   },
   "outputs": [
    {
     "name": "stdout",
     "output_type": "stream",
     "text": [
      "Numero de planetas. Perturbacion baja:\n"
     ]
    },
    {
     "name": "stderr",
     "output_type": "stream",
     "text": [
      "/Users/Sebastito/anaconda/lib/python2.7/site-packages/sklearn/linear_model/coordinate_descent.py:484: ConvergenceWarning: Objective did not converge. You might want to increase the number of iterations. Fitting data with very small alpha may cause precision problems.\n",
      "  ConvergenceWarning)\n"
     ]
    },
    {
     "name": "stdout",
     "output_type": "stream",
     "text": [
      "r^2=0.54\n",
      "Masa total. Perturbacion baja:\n",
      "r^2=0.11\n",
      "Eficiencia de masa. Perturbacion baja:\n",
      "r^2=0.16\n",
      "Numero de planetas. Perturbacion alta:\n",
      "r^2=0.64\n",
      "Masa total. Perturbacion alta:\n",
      "r^2=-0.06\n",
      "Eficiencia de masa. Perturbacion alta:\n",
      "r^2=0.04\n"
     ]
    }
   ],
   "source": [
    "#Planetas-Low\n",
    "print \"Numero de planetas. Perturbacion baja:\"\n",
    "print \"r^2=\"+str(round(ajuste_poli(X_low_train, X_low_test, Y_low_train[:,0], Y_low_test[:,0], 0.0001, 3),2))\n",
    "#Masa total-Low\n",
    "print \"Masa total. Perturbacion baja:\"\n",
    "print \"r^2=\"+ str(round(ajuste_poli(X_low_train, X_low_test, Y_low_train[:,1], Y_low_test[:,1], 0.0001, 2),2))\n",
    "#Eficiencia-Low\n",
    "print \"Eficiencia de masa. Perturbacion baja:\"\n",
    "print \"r^2=\"+ str(round(ajuste_poli(X_low_train, X_low_test, Y_low_train[:,2], Y_low_test[:,2], 0.0001, 2),2))\n",
    "#Planetas-High\n",
    "print \"Numero de planetas. Perturbacion alta:\"\n",
    "print \"r^2=\"+ str(round(ajuste_poli(X_high_train, X_high_test, Y_high_train[:,0], Y_high_test[:,0], 0.0001, 3),2))\n",
    "#Masa total-High\n",
    "print \"Masa total. Perturbacion alta:\"\n",
    "print \"r^2=\"+ str(round(ajuste_poli(X_high_train, X_high_test, Y_high_train[:,1], Y_high_test[:,1], 0.0001, 2),2))\n",
    "#Eficiencia-High\n",
    "print \"Eficiencia de masa. Perturbacion alta:\"\n",
    "print \"r^2=\"+ str(round(ajuste_poli(X_high_train, X_high_test, Y_high_train[:,2], Y_high_test[:,2], 0.0001, 2),2))"
   ]
  },
  {
   "cell_type": "markdown",
   "metadata": {},
   "source": [
    "# Random Forest classification (alternative method)"
   ]
  },
  {
   "cell_type": "code",
   "execution_count": 22,
   "metadata": {
    "collapsed": false,
    "scrolled": true
   },
   "outputs": [],
   "source": [
    "def fix(Y_fix):\n",
    "    Y_fix[:,0]= Y_fix[:,0]//3\n",
    "    \n",
    "    Y_fix[:,1]=Y_fix[:,1]//1\n",
    "    for i in range(len(Y_fix[:,1])):\n",
    "        if Y_fix[i,1]>=10 and Y_fix[i,1]<=100:\n",
    "            Y_fix[i,1]=Y_fix[i,1]//10*10\n",
    "        elif Y_fix[i,1]>100 and Y_fix[i,1]<=1000:\n",
    "            Y_fix[i,1]=Y_fix[i,1]//100*100\n",
    "        elif Y_fix[i,1]>1000:\n",
    "            Y_fix[i,1]=Y_fix[i,1]//1000*1000\n",
    "            \n",
    "    Y_fix[:,2]=Y_fix[:,2]//10\n",
    "    for i in range(len(Y_fix[:,2])):\n",
    "        if Y_fix[i,2]>=20 and Y_fix[i,2]<=100:\n",
    "            Y_fix[i,2]=Y_fix[i,2]//10*10\n",
    "        elif Y_fix[i,2]>100 and Y_fix[i,2]<=1000:\n",
    "            Y_fix[i,2]=Y_fix[i,2]//100*100\n",
    "        elif Y_fix[i,2]>1000:\n",
    "            Y_fix[i,2]=Y_fix[i,2]//1000*1000"
   ]
  },
  {
   "cell_type": "code",
   "execution_count": 23,
   "metadata": {
    "collapsed": false
   },
   "outputs": [],
   "source": [
    "def forest(n_trees, prof, feat, X_train, Y_train, X_test, Y_test, print_mat):\n",
    "    rf = RandomForestClassifier(n_estimators=n_trees, max_depth=prof, max_features=feat)\n",
    "    rf.fit(X_train, Y_train)\n",
    "\n",
    "    y_predict = rf.predict(X_test)\n",
    "    matrix=confusion_matrix(Y_test, y_predict)\n",
    "    return float(matrix.trace())/np.sum(matrix)"
   ]
  },
  {
   "cell_type": "code",
   "execution_count": 24,
   "metadata": {
    "collapsed": true
   },
   "outputs": [],
   "source": [
    "def explore_params(trees, profund, features, X_train, Y_train, X_test, Y_test):\n",
    "    best_tree=0.0\n",
    "    best_depth=0.0\n",
    "    best_atrib=0.0\n",
    "    hits=0.0\n",
    "    for i in range(len(trees)):\n",
    "        for j in range(len(profund)):\n",
    "            for k in range(len(features)):\n",
    "                temp=forest(trees[i], profund[j], features[k], X_train, Y_train, X_test, Y_test, 0)\n",
    "                if temp>hits:\n",
    "                    best_tree=trees[i]\n",
    "                    best_depth=profund[j]\n",
    "                    best_atrib=features[k]\n",
    "                    hits=temp\n",
    "    print \"Porcentaje de aciertos = \" + str(round(temp*100.0,2))\n",
    "    return best_tree, best_depth, best_atrib"
   ]
  },
  {
   "cell_type": "code",
   "execution_count": 25,
   "metadata": {
    "collapsed": true
   },
   "outputs": [],
   "source": [
    "def importancia(tree, depth, feature, X_train, Y_train):\n",
    "    rf = RandomForestClassifier(n_estimators=tree, max_depth=depth, max_features=feature)\n",
    "    rf.fit(X_train, Y_train)\n",
    "    atributo=[]\n",
    "    importance=[]\n",
    "    ii = np.argsort(rf.feature_importances_)\n",
    "    for i in range(1,len(X_train[0,:])+1):\n",
    "        atributo.append(ii[-1*i])\n",
    "        importance.append(rf.feature_importances_[ii[-1*i]])\n",
    "        print \"Atributo: \", ii[-1*i], \". Importancia relativa: \", rf.feature_importances_[ii[-1*i]]\n",
    "    return atributo, importance"
   ]
  },
  {
   "cell_type": "code",
   "execution_count": 26,
   "metadata": {
    "collapsed": true
   },
   "outputs": [],
   "source": [
    "arboles=np.arange(1, 122, 30)\n",
    "depths=np.arange(1, 100, 10)\n",
    "atrib=np.arange(1, 8, 1)"
   ]
  },
  {
   "cell_type": "code",
   "execution_count": 27,
   "metadata": {
    "collapsed": false
   },
   "outputs": [],
   "source": [
    "X_low=np.genfromtxt('data/X_low.csv', delimiter=',', dtype='float', skip_header=1)\n",
    "Y_low=np.genfromtxt('data/Y_low.csv', delimiter=',', dtype='float', skip_header=1)\n",
    "X_high=np.genfromtxt('data/X_high.csv', delimiter=',', dtype='float', skip_header=1)\n",
    "Y_high=np.genfromtxt('data/Y_high.csv', delimiter=',', dtype='float', skip_header=1)\n",
    "X_low=np.delete(X_low, -3, axis=1)\n",
    "X_high=np.delete(X_high, -3, axis=1)"
   ]
  },
  {
   "cell_type": "code",
   "execution_count": 28,
   "metadata": {
    "collapsed": false
   },
   "outputs": [],
   "source": [
    "scax_low = sk.preprocessing.StandardScaler().fit(X_low)\n",
    "scax_high = sk.preprocessing.StandardScaler().fit(X_high)\n",
    "\n",
    "X_low=scax_low.transform(X_low)\n",
    "X_high=scax_high.transform(X_high)"
   ]
  },
  {
   "cell_type": "code",
   "execution_count": 29,
   "metadata": {
    "collapsed": false,
    "scrolled": false
   },
   "outputs": [],
   "source": [
    "fix(Y_low)\n",
    "fix(Y_high)"
   ]
  },
  {
   "cell_type": "code",
   "execution_count": 30,
   "metadata": {
    "collapsed": false
   },
   "outputs": [],
   "source": [
    "from sklearn.preprocessing import PolynomialFeatures\n",
    "\n",
    "X_low_train, X_low_val, Y_low_train, Y_low_val = train_test_split(X_low, Y_low, train_size=0.80, random_state=1)\n",
    "X_low_train, X_low_test, Y_low_train, Y_low_test = train_test_split(X_low_train, Y_low_train, train_size=0.80, random_state=2)\n",
    "\n",
    "X_high_train, X_high_val, Y_high_train, Y_high_val = train_test_split(X_high, Y_high, train_size=0.80, random_state=3)\n",
    "X_high_train, X_high_test, Y_high_train, Y_high_test = train_test_split(X_high_train, Y_high_train, train_size=0.80, random_state=4)"
   ]
  },
  {
   "cell_type": "code",
   "execution_count": 31,
   "metadata": {
    "collapsed": false,
    "scrolled": true
   },
   "outputs": [
    {
     "name": "stdout",
     "output_type": "stream",
     "text": [
      "Para perturbacion baja (Numero de planetas): \n",
      "\n",
      "Porcentaje de aciertos = 45.66\n",
      "Atributo:  0 . Importancia relativa:  0.23403144765\n",
      "Atributo:  7 . Importancia relativa:  0.164752244368\n",
      "Atributo:  3 . Importancia relativa:  0.126478250329\n",
      "Atributo:  1 . Importancia relativa:  0.111210718981\n",
      "Atributo:  4 . Importancia relativa:  0.102273002776\n",
      "Atributo:  2 . Importancia relativa:  0.10137737903\n",
      "Atributo:  6 . Importancia relativa:  0.0880423224686\n",
      "Atributo:  5 . Importancia relativa:  0.0718346343983\n"
     ]
    },
    {
     "data": {
      "text/plain": [
       "([0, 7, 3, 1, 4, 2, 6, 5],\n",
       " [0.23403144764957748,\n",
       "  0.16475224436784394,\n",
       "  0.12647825032892157,\n",
       "  0.11121071898095852,\n",
       "  0.10227300277584539,\n",
       "  0.10137737902990521,\n",
       "  0.088042322468598652,\n",
       "  0.071834634398349251])"
      ]
     },
     "execution_count": 31,
     "metadata": {},
     "output_type": "execute_result"
    }
   ],
   "source": [
    "print \"Para perturbacion baja (Numero de planetas): \\n\"\n",
    "b_tree_low_planets, b_depth_low_planets, b_atrib_low_planets = explore_params(arboles, depths, atrib, X_low_train, Y_low_train[:,0], X_low_test, Y_low_test[:,0])\n",
    "importancia(b_tree_low_planets, b_depth_low_planets, b_atrib_low_planets, X_low_train, Y_low_train[:,0])"
   ]
  },
  {
   "cell_type": "code",
   "execution_count": 32,
   "metadata": {
    "collapsed": false
   },
   "outputs": [
    {
     "name": "stdout",
     "output_type": "stream",
     "text": [
      "Para perturbacion baja (Masa solida): \n",
      "\n",
      "Porcentaje de aciertos = 42.69\n",
      "Atributo:  0 . Importancia relativa:  0.248119315204\n",
      "Atributo:  7 . Importancia relativa:  0.128321896228\n",
      "Atributo:  6 . Importancia relativa:  0.122527730989\n",
      "Atributo:  4 . Importancia relativa:  0.118819910501\n",
      "Atributo:  1 . Importancia relativa:  0.11723458906\n",
      "Atributo:  5 . Importancia relativa:  0.0909515661162\n",
      "Atributo:  3 . Importancia relativa:  0.0877767487776\n",
      "Atributo:  2 . Importancia relativa:  0.086248243124\n"
     ]
    },
    {
     "data": {
      "text/plain": [
       "([0, 7, 6, 4, 1, 5, 3, 2],\n",
       " [0.24811931520423397,\n",
       "  0.12832189622815277,\n",
       "  0.12252773098855374,\n",
       "  0.11881991050098061,\n",
       "  0.11723458906023382,\n",
       "  0.09095156611618925,\n",
       "  0.087776748777607189,\n",
       "  0.086248243124048898])"
      ]
     },
     "execution_count": 32,
     "metadata": {},
     "output_type": "execute_result"
    }
   ],
   "source": [
    "print \"Para perturbacion baja (Masa solida): \\n\"\n",
    "b_tree_low_mass, b_depth_low_mass, b_atrib_low_mass = explore_params(arboles, depths, atrib, X_low_train, Y_low_train[:,1], X_low_test, Y_low_test[:,1])\n",
    "importancia(b_tree_low_mass, b_depth_low_mass, b_atrib_low_mass, X_low_train, Y_low_train[:,1])"
   ]
  },
  {
   "cell_type": "code",
   "execution_count": 33,
   "metadata": {
    "collapsed": false,
    "scrolled": true
   },
   "outputs": [
    {
     "name": "stdout",
     "output_type": "stream",
     "text": [
      "Para perturbacion baja (Eficiencia de masa): \n",
      "\n",
      "Porcentaje de aciertos = 21.0\n",
      "Atributo:  6 . Importancia relativa:  0.178219815115\n",
      "Atributo:  0 . Importancia relativa:  0.142166014669\n",
      "Atributo:  4 . Importancia relativa:  0.121051856894\n",
      "Atributo:  3 . Importancia relativa:  0.119621925692\n",
      "Atributo:  7 . Importancia relativa:  0.117133690386\n",
      "Atributo:  2 . Importancia relativa:  0.109965743376\n",
      "Atributo:  1 . Importancia relativa:  0.106298941589\n",
      "Atributo:  5 . Importancia relativa:  0.10554201228\n"
     ]
    },
    {
     "data": {
      "text/plain": [
       "([6, 0, 4, 3, 7, 2, 1, 5],\n",
       " [0.17821981511468588,\n",
       "  0.14216601466866813,\n",
       "  0.12105185689403047,\n",
       "  0.11962192569198873,\n",
       "  0.1171336903858707,\n",
       "  0.1099657433762144,\n",
       "  0.10629894158891379,\n",
       "  0.10554201227962778])"
      ]
     },
     "execution_count": 33,
     "metadata": {},
     "output_type": "execute_result"
    }
   ],
   "source": [
    "print \"Para perturbacion baja (Eficiencia de masa): \\n\"\n",
    "b_tree_low_eff, b_depth_low_eff, b_atrib_low_eff = explore_params(arboles, depths, atrib, X_low_train, Y_low_train[:,2], X_low_test, Y_low_test[:,2])\n",
    "importancia(b_tree_low_eff, b_depth_low_eff, b_atrib_low_eff, X_low_train, Y_low_train[:,2])"
   ]
  },
  {
   "cell_type": "code",
   "execution_count": 34,
   "metadata": {
    "collapsed": false
   },
   "outputs": [
    {
     "name": "stdout",
     "output_type": "stream",
     "text": [
      "Para perturbacion alta (Numero de planetas): \n",
      "\n",
      "Porcentaje de aciertos = 41.89\n",
      "Atributo:  0 . Importancia relativa:  0.220869516231\n",
      "Atributo:  7 . Importancia relativa:  0.171433817774\n",
      "Atributo:  1 . Importancia relativa:  0.113626236172\n",
      "Atributo:  3 . Importancia relativa:  0.11049890192\n",
      "Atributo:  4 . Importancia relativa:  0.104697177932\n",
      "Atributo:  2 . Importancia relativa:  0.104066940124\n",
      "Atributo:  6 . Importancia relativa:  0.0985862586595\n",
      "Atributo:  5 . Importancia relativa:  0.0762211511873\n"
     ]
    },
    {
     "data": {
      "text/plain": [
       "([0, 7, 1, 3, 4, 2, 6, 5],\n",
       " [0.22086951623122369,\n",
       "  0.17143381777374769,\n",
       "  0.11362623617233594,\n",
       "  0.11049890191979791,\n",
       "  0.10469717793243938,\n",
       "  0.10406694012362946,\n",
       "  0.098586258659484782,\n",
       "  0.076221151187340935])"
      ]
     },
     "execution_count": 34,
     "metadata": {},
     "output_type": "execute_result"
    }
   ],
   "source": [
    "print \"Para perturbacion alta (Numero de planetas): \\n\"\n",
    "b_tree_high_planets, b_depth_high_planets, b_atrib_high_planets = explore_params(arboles, depths, atrib, X_high_train, Y_high_train[:,0], X_high_test, Y_high_test[:,0])\n",
    "importancia(b_tree_high_planets, b_depth_high_planets, b_atrib_high_planets, X_high_train, Y_high_train[:,0])"
   ]
  },
  {
   "cell_type": "code",
   "execution_count": 35,
   "metadata": {
    "collapsed": false
   },
   "outputs": [
    {
     "name": "stdout",
     "output_type": "stream",
     "text": [
      "Para perturbacion alta (Masa solida): \n",
      "\n",
      "Porcentaje de aciertos = 44.14\n",
      "Atributo:  0 . Importancia relativa:  0.353070518921\n",
      "Atributo:  1 . Importancia relativa:  0.133028214356\n",
      "Atributo:  7 . Importancia relativa:  0.132320230368\n",
      "Atributo:  6 . Importancia relativa:  0.0958678639031\n",
      "Atributo:  4 . Importancia relativa:  0.0826741465042\n",
      "Atributo:  2 . Importancia relativa:  0.0738489026517\n",
      "Atributo:  5 . Importancia relativa:  0.0660868484902\n",
      "Atributo:  3 . Importancia relativa:  0.0631032748066\n"
     ]
    },
    {
     "data": {
      "text/plain": [
       "([0, 1, 7, 6, 4, 2, 5, 3],\n",
       " [0.35307051892082841,\n",
       "  0.13302821435550438,\n",
       "  0.13232023036774401,\n",
       "  0.095867863903140269,\n",
       "  0.082674146504246399,\n",
       "  0.073848902651724488,\n",
       "  0.066086848490222214,\n",
       "  0.063103274806589851])"
      ]
     },
     "execution_count": 35,
     "metadata": {},
     "output_type": "execute_result"
    }
   ],
   "source": [
    "print \"Para perturbacion alta (Masa solida): \\n\"\n",
    "b_tree_high_mass, b_depth_high_mass, b_atrib_high_mass = explore_params(arboles, depths, atrib, X_high_train, Y_high_train[:,1], X_high_test, Y_high_test[:,1])\n",
    "importancia(b_tree_high_mass, b_depth_high_mass, b_atrib_high_mass, X_high_train, Y_high_train[:,1])"
   ]
  },
  {
   "cell_type": "code",
   "execution_count": 36,
   "metadata": {
    "collapsed": false
   },
   "outputs": [
    {
     "name": "stdout",
     "output_type": "stream",
     "text": [
      "Para perturbacion alta (Eficiencia de masa): \n",
      "\n",
      "Porcentaje de aciertos = 23.65\n",
      "Atributo:  6 . Importancia relativa:  0.176418545856\n",
      "Atributo:  0 . Importancia relativa:  0.147538882667\n",
      "Atributo:  4 . Importancia relativa:  0.119569510027\n",
      "Atributo:  3 . Importancia relativa:  0.117235160484\n",
      "Atributo:  2 . Importancia relativa:  0.115651421638\n",
      "Atributo:  7 . Importancia relativa:  0.115564265893\n",
      "Atributo:  5 . Importancia relativa:  0.107381978897\n",
      "Atributo:  1 . Importancia relativa:  0.100640234539\n"
     ]
    },
    {
     "data": {
      "text/plain": [
       "([6, 0, 4, 3, 2, 7, 5, 1],\n",
       " [0.1764185458555691,\n",
       "  0.14753888266701193,\n",
       "  0.11956951002676455,\n",
       "  0.11723516048420163,\n",
       "  0.11565142163764407,\n",
       "  0.11556426589260969,\n",
       "  0.10738197889742798,\n",
       "  0.10064023453877094])"
      ]
     },
     "execution_count": 36,
     "metadata": {},
     "output_type": "execute_result"
    }
   ],
   "source": [
    "print \"Para perturbacion alta (Eficiencia de masa): \\n\"\n",
    "b_tree_high_eff, b_depth_high_eff, b_atrib_high_eff = explore_params(arboles, depths, atrib, X_high_train, Y_high_train[:,2], X_high_test, Y_high_test[:,2])\n",
    "importancia(b_tree_high_eff, b_depth_high_eff, b_atrib_high_eff, X_high_train, Y_high_train[:,2])"
   ]
  },
  {
   "cell_type": "markdown",
   "metadata": {
    "collapsed": true
   },
   "source": [
    "# Neural Network (alternative method)"
   ]
  },
  {
   "cell_type": "code",
   "execution_count": 31,
   "metadata": {
    "collapsed": false
   },
   "outputs": [],
   "source": [
    "# Loadgin files \n",
    "folder = 'data/'\n",
    "Y_high = pd.read_csv(folder+'Y_high.csv')\n",
    "Y_low = pd.read_csv(folder+'Y_low.csv')\n",
    "X_high = pd.read_csv(folder+'X_high.csv')\n",
    "X_low = pd.read_csv(folder+'X_low.csv')"
   ]
  },
  {
   "cell_type": "code",
   "execution_count": 32,
   "metadata": {
    "collapsed": false
   },
   "outputs": [
    {
     "data": {
      "text/html": [
       "<div style=\"max-height:1000px;max-width:1500px;overflow:auto;\">\n",
       "<table border=\"1\" class=\"dataframe\">\n",
       "  <thead>\n",
       "    <tr style=\"text-align: right;\">\n",
       "      <th></th>\n",
       "      <th>it</th>\n",
       "      <th>emestar</th>\n",
       "      <th>rc</th>\n",
       "      <th>qest</th>\n",
       "      <th>sigmag_0</th>\n",
       "      <th>emed</th>\n",
       "      <th>apert</th>\n",
       "      <th>emetal</th>\n",
       "      <th>taugas</th>\n",
       "    </tr>\n",
       "  </thead>\n",
       "  <tbody>\n",
       "    <tr>\n",
       "      <th>count</th>\n",
       "      <td>   5505.000000</td>\n",
       "      <td> 5.505000e+03</td>\n",
       "      <td> 5505.000000</td>\n",
       "      <td> 5505.000000</td>\n",
       "      <td> 5505.000000</td>\n",
       "      <td> 5505.000000</td>\n",
       "      <td> 5505.000000</td>\n",
       "      <td> 5505.000000</td>\n",
       "      <td>    5505.000000</td>\n",
       "    </tr>\n",
       "    <tr>\n",
       "      <th>mean</th>\n",
       "      <td> 194293.401453</td>\n",
       "      <td> 5.681652e+32</td>\n",
       "      <td>   45.451400</td>\n",
       "      <td>    5.880861</td>\n",
       "      <td>   34.176706</td>\n",
       "      <td>    0.045563</td>\n",
       "      <td>    0.200636</td>\n",
       "      <td>   -0.008525</td>\n",
       "      <td> 4027675.743347</td>\n",
       "    </tr>\n",
       "    <tr>\n",
       "      <th>std</th>\n",
       "      <td>  18183.031824</td>\n",
       "      <td> 2.838980e+32</td>\n",
       "      <td>    8.219733</td>\n",
       "      <td>    4.543921</td>\n",
       "      <td>   36.311114</td>\n",
       "      <td>    0.042595</td>\n",
       "      <td>    0.100007</td>\n",
       "      <td>    0.215189</td>\n",
       "      <td> 2565235.436992</td>\n",
       "    </tr>\n",
       "    <tr>\n",
       "      <th>min</th>\n",
       "      <td>   2219.000000</td>\n",
       "      <td> 2.005149e+32</td>\n",
       "      <td>   25.340290</td>\n",
       "      <td>    1.007152</td>\n",
       "      <td>    1.515903</td>\n",
       "      <td>    0.003100</td>\n",
       "      <td>    0.100000</td>\n",
       "      <td>   -0.688720</td>\n",
       "      <td> 1001011.375000</td>\n",
       "    </tr>\n",
       "    <tr>\n",
       "      <th>25%</th>\n",
       "      <td> 197697.000000</td>\n",
       "      <td> 3.242120e+32</td>\n",
       "      <td>   39.659233</td>\n",
       "      <td>    2.792358</td>\n",
       "      <td>   12.059580</td>\n",
       "      <td>    0.018000</td>\n",
       "      <td>    0.100000</td>\n",
       "      <td>   -0.154325</td>\n",
       "      <td> 1802666.250000</td>\n",
       "    </tr>\n",
       "    <tr>\n",
       "      <th>50%</th>\n",
       "      <td> 199637.000000</td>\n",
       "      <td> 5.019627e+32</td>\n",
       "      <td>   44.709671</td>\n",
       "      <td>    4.589251</td>\n",
       "      <td>   22.208331</td>\n",
       "      <td>    0.031000</td>\n",
       "      <td>    0.300000</td>\n",
       "      <td>   -0.005050</td>\n",
       "      <td> 3325364.250000</td>\n",
       "    </tr>\n",
       "    <tr>\n",
       "      <th>75%</th>\n",
       "      <td> 199915.000000</td>\n",
       "      <td> 7.742199e+32</td>\n",
       "      <td>   50.470615</td>\n",
       "      <td>    7.520444</td>\n",
       "      <td>   42.551480</td>\n",
       "      <td>    0.057000</td>\n",
       "      <td>    0.300000</td>\n",
       "      <td>    0.137732</td>\n",
       "      <td> 5824424.500000</td>\n",
       "    </tr>\n",
       "    <tr>\n",
       "      <th>max</th>\n",
       "      <td> 199999.000000</td>\n",
       "      <td> 1.198218e+33</td>\n",
       "      <td>   91.153824</td>\n",
       "      <td>   48.223476</td>\n",
       "      <td>  372.454042</td>\n",
       "      <td>    0.320000</td>\n",
       "      <td>    0.300000</td>\n",
       "      <td>    0.774710</td>\n",
       "      <td> 9985367.000000</td>\n",
       "    </tr>\n",
       "  </tbody>\n",
       "</table>\n",
       "</div>"
      ],
      "text/plain": [
       "                  it       emestar           rc         qest     sigmag_0  \\\n",
       "count    5505.000000  5.505000e+03  5505.000000  5505.000000  5505.000000   \n",
       "mean   194293.401453  5.681652e+32    45.451400     5.880861    34.176706   \n",
       "std     18183.031824  2.838980e+32     8.219733     4.543921    36.311114   \n",
       "min      2219.000000  2.005149e+32    25.340290     1.007152     1.515903   \n",
       "25%    197697.000000  3.242120e+32    39.659233     2.792358    12.059580   \n",
       "50%    199637.000000  5.019627e+32    44.709671     4.589251    22.208331   \n",
       "75%    199915.000000  7.742199e+32    50.470615     7.520444    42.551480   \n",
       "max    199999.000000  1.198218e+33    91.153824    48.223476   372.454042   \n",
       "\n",
       "              emed        apert       emetal          taugas  \n",
       "count  5505.000000  5505.000000  5505.000000     5505.000000  \n",
       "mean      0.045563     0.200636    -0.008525  4027675.743347  \n",
       "std       0.042595     0.100007     0.215189  2565235.436992  \n",
       "min       0.003100     0.100000    -0.688720  1001011.375000  \n",
       "25%       0.018000     0.100000    -0.154325  1802666.250000  \n",
       "50%       0.031000     0.300000    -0.005050  3325364.250000  \n",
       "75%       0.057000     0.300000     0.137732  5824424.500000  \n",
       "max       0.320000     0.300000     0.774710  9985367.000000  "
      ]
     },
     "execution_count": 32,
     "metadata": {},
     "output_type": "execute_result"
    }
   ],
   "source": [
    "# Merge data \n",
    "X = X_low.append(X_high)\n",
    "Y = Y_low.append(Y_high)\n",
    "X.describe()"
   ]
  },
  {
   "cell_type": "code",
   "execution_count": 33,
   "metadata": {
    "collapsed": false
   },
   "outputs": [],
   "source": [
    "# Scale data with the same cross validation groups\n",
    "scaler = sk.preprocessing.StandardScaler().fit(X)\n",
    "X = scaler.transform(X)\n",
    "Y = (Y - np.mean(Y_high))/np.std(Y_high)"
   ]
  },
  {
   "cell_type": "code",
   "execution_count": 34,
   "metadata": {
    "collapsed": true
   },
   "outputs": [],
   "source": [
    "X_validation, X_t, Y_validation, Y_t = train_test_split(X, Y, test_size=0.80, random_state=42)\n",
    "X_test, X_train, Y_test, Y_train = train_test_split(X_t, Y_t, test_size=0.80, random_state=42)\n",
    "\n",
    "X_train, X_test, Y_train, Y_test = train_test_split(X, Y, random_state=1)\n",
    "scaler = sk.preprocessing.StandardScaler().fit(X_train)\n",
    "X_train = scaler.transform(X_train)\n",
    "X_test = scaler.transform(X_test)\n",
    "Y_train = (Y_train - np.mean(Y_train))/np.std(Y_train)\n",
    "Y_test = (Y_test - np.mean(Y_test))/np.std(Y_test)"
   ]
  },
  {
   "cell_type": "code",
   "execution_count": 35,
   "metadata": {
    "collapsed": true
   },
   "outputs": [],
   "source": [
    "# Benchmark \n",
    "def NN_benchmark(x,y,xt,yt): \n",
    "    mlp = neural_network.MLPRegressor()\n",
    "    mlp.fit(x,y)\n",
    "    train = mlp.score(x, y)\n",
    "    test = mlp.score(xt, yt)\n",
    "    print('R2 train: ' + str(train) + ' R2 test: ' + str(test)) "
   ]
  },
  {
   "cell_type": "code",
   "execution_count": 36,
   "metadata": {
    "collapsed": false
   },
   "outputs": [
    {
     "name": "stdout",
     "output_type": "stream",
     "text": [
      "Number planets model: \n",
      "R2 train: 0.709282433441 R2 test: 0.679838089564\n",
      "Mass efficiency: \n",
      "R2 train: 0.376015448897 R2 test: 0.23383726391\n",
      "Solid mass: \n",
      "R2 train: 0.350547025981 R2 test: 0.203758398145\n"
     ]
    }
   ],
   "source": [
    "print('Number planets model: ')\n",
    "NN_benchmark(X_train,Y_train['num_planets'],X_test,Y_test['num_planets'])\n",
    "print('Mass efficiency: ')\n",
    "NN_benchmark(X_train,Y_train['mass_efficiency'],X_test,Y_test['mass_efficiency'])\n",
    "print('Solid mass: ')\n",
    "NN_benchmark(X_train,Y_train['solid_mass'],X_test,Y_test['solid_mass'])"
   ]
  },
  {
   "cell_type": "markdown",
   "metadata": {},
   "source": [
    "### Optimal Neural Network architecture \n",
    "We are going to search the best architecture without falling in overfitting"
   ]
  },
  {
   "cell_type": "code",
   "execution_count": 42,
   "metadata": {
    "collapsed": true
   },
   "outputs": [],
   "source": [
    "def NN_achitecture(x,y,xt,yt,N_neurons=100, N_layers=5,s_nuerons=9,s_layers=1):\n",
    "    Neurons = np.arange(1,N_neurons,s_nuerons)\n",
    "    Layers = np.arange(1,N_layers,s_layers)\n",
    "\n",
    "    R2_train = np.zeros((int(N_layers/s_layers),int(N_neurons/s_nuerons)))\n",
    "    R2_test = np.zeros((int(N_layers/s_layers),int(N_neurons/s_nuerons)))\n",
    "    #int((i)/10)+1,int((i)/10)+1,int((i)/10)+1,int((i)/10)+1\n",
    "    cont_neu = 0\n",
    "    cont_lay = 0\n",
    "    for lay in Layers:\n",
    "        for neu in Neurons:\n",
    "            mlp = neural_network.MLPRegressor(hidden_layer_sizes = neu*np.ones(lay),max_iter = 500)\n",
    "            mlp.fit(x,y)\n",
    "            R2_train[cont_lay][cont_neu] = mlp.score(x,y)\n",
    "            R2_test[cont_lay][cont_neu] = mlp.score(xt,yt)\n",
    "            cont_neu = cont_neu + 1\n",
    "        cont_neu = 0\n",
    "        cont_lay = cont_lay + 1\n",
    "    plt.clf\n",
    "    plt.pcolormesh(Neurons,Layers,R2_train)\n",
    "    plt.ylabel('layers')\n",
    "    plt.xlabel('neurons')\n",
    "    plt.title('Train')\n",
    "    plt.colorbar()\n",
    "    plt.show()\n",
    "    plt.clf()\n",
    "    plt.pcolormesh(Neurons,Layers,R2_test)\n",
    "    plt.ylabel('layers')\n",
    "    plt.xlabel('neurons')\n",
    "    plt.title('Test')\n",
    "    plt.colorbar()\n",
    "    plt.show()\n",
    "    index = np.array(np.where(R2_test == R2_test.max()))\n",
    "    print('R2 for test : '+str(R2_test.max()))\n",
    "    #print('Layers : '+ str(Layers[index[1,0]]))\n",
    "    #print('Nuerons : '+ str(Neurons[index[1,0]]))"
   ]
  },
  {
   "cell_type": "code",
   "execution_count": 43,
   "metadata": {
    "collapsed": false
   },
   "outputs": [
    {
     "data": {
      "image/png": "[encoded data removed]",
      "text/plain": [
       "<matplotlib.figure.Figure at 0x10d981890>"
      ]
     },
     "metadata": {},
     "output_type": "display_data"
    },
    {
     "data": {
      "image/png": "[encoded data removed]",
      "text/plain": [
       "<matplotlib.figure.Figure at 0x10c138c10>"
      ]
     },
     "metadata": {},
     "output_type": "display_data"
    },
    {
     "name": "stdout",
     "output_type": "stream",
     "text": [
      "R2 for test : 0.692794463282\n"
     ]
    }
   ],
   "source": [
    "NN_achitecture(X_train,Y_train['num_planets'],X_test,Y_test['num_planets'],N_neurons=100, N_layers=10,s_nuerons=9,s_layers=2)"
   ]
  },
  {
   "cell_type": "code",
   "execution_count": 44,
   "metadata": {
    "collapsed": false
   },
   "outputs": [
    {
     "data": {
      "image/png": "[encoded data removed]",
      "text/plain": [
       "<matplotlib.figure.Figure at 0x10d108ad0>"
      ]
     },
     "metadata": {},
     "output_type": "display_data"
    },
    {
     "data": {
      "image/png": "[encoded data removed]",
      "text/plain": [
       "<matplotlib.figure.Figure at 0x10d7c4510>"
      ]
     },
     "metadata": {},
     "output_type": "display_data"
    },
    {
     "name": "stdout",
     "output_type": "stream",
     "text": [
      "R2 for test : 0.250428368667\n"
     ]
    }
   ],
   "source": [
    "NN_achitecture(X_train,Y_train['mass_efficiency'],X_test,Y_test['mass_efficiency'],100,10,9,2)"
   ]
  },
  {
   "cell_type": "code",
   "execution_count": 45,
   "metadata": {
    "collapsed": false
   },
   "outputs": [
    {
     "data": {
      "image/png": "[encoded data removed]",
      "text/plain": [
       "<matplotlib.figure.Figure at 0x10ca44550>"
      ]
     },
     "metadata": {},
     "output_type": "display_data"
    },
    {
     "data": {
      "image/png": "[encoded data removed]",
      "text/plain": [
       "<matplotlib.figure.Figure at 0x10c730050>"
      ]
     },
     "metadata": {},
     "output_type": "display_data"
    },
    {
     "name": "stdout",
     "output_type": "stream",
     "text": [
      "R2 for test : 0.255300096214\n"
     ]
    }
   ],
   "source": [
    "NN_achitecture(X_train,Y_train['solid_mass'],X_test,Y_test['solid_mass'],100,10,9,2)"
   ]
  },
  {
   "cell_type": "markdown",
   "metadata": {},
   "source": [
    "# High and Low Segmentation"
   ]
  },
  {
   "cell_type": "code",
   "execution_count": 51,
   "metadata": {
    "collapsed": true
   },
   "outputs": [],
   "source": [
    "# Loadgin files \n",
    "folder = 'data/'\n",
    "Y_high = pd.read_csv(folder+'Y_high.csv')\n",
    "Y_low = pd.read_csv(folder+'Y_low.csv')"
   ]
  },
  {
   "cell_type": "code",
   "execution_count": 52,
   "metadata": {
    "collapsed": false
   },
   "outputs": [
    {
     "name": "stdout",
     "output_type": "stream",
     "text": [
      "Difference between High and Low Data Sets\n",
      "Number of planets : 0.086578580904\n",
      "Solid mass :        -23.2595449429\n",
      "Mass efficiency :   -70.8015582677\n"
     ]
    }
   ],
   "source": [
    "# Getting the statistics for original data \n",
    "ori_mean_planets = np.mean(Y_high['num_planets']) - np.mean(Y_low['num_planets'])\n",
    "ori_mean_mass = np.mean(Y_high['solid_mass']) - np.mean(Y_low['solid_mass'])\n",
    "ori_mean_efficiency = np.mean(Y_high['mass_efficiency']) - np.mean(Y_low['mass_efficiency'])\n",
    "print('Difference between High and Low Data Sets')\n",
    "print('Number of planets : ' + str(ori_mean_planets))\n",
    "print('Solid mass :        ' + str(ori_mean_mass))\n",
    "print('Mass efficiency :   ' + str(ori_mean_efficiency))"
   ]
  },
  {
   "cell_type": "code",
   "execution_count": 53,
   "metadata": {
    "collapsed": true
   },
   "outputs": [],
   "source": [
    "# Merge of data sets\n",
    "Y_join = Y_high.append(Y_low)"
   ]
  },
  {
   "cell_type": "code",
   "execution_count": 54,
   "metadata": {
    "collapsed": true
   },
   "outputs": [],
   "source": [
    "# Simulate \n",
    "N = 50000\n",
    "\n",
    "mass_mean = np.zeros((N,1))\n",
    "efficiency_mean = np.zeros((N,1))\n",
    "planets_mean = np.zeros((N,1))\n",
    "\n",
    "for i in range(0,N):\n",
    "    labels = np.concatenate((np.zeros(len(Y_low.index)), np.ones(len(Y_high.index))),axis=0)\n",
    "    np.random.shuffle(labels)\n",
    "        \n",
    "    mass_mean[i] = np.mean(Y_join[labels==1]['solid_mass']) - np.mean(Y_join[labels==0]['solid_mass'])\n",
    "    efficiency_mean[i] = np.mean(Y_join[labels==1]['mass_efficiency']) - np.mean(Y_join[labels==0]['mass_efficiency'])\n",
    "    planets_mean[i] = np.mean(Y_join[labels==1]['num_planets']) - np.mean(Y_join[labels==0]['num_planets'])"
   ]
  },
  {
   "cell_type": "code",
   "execution_count": 55,
   "metadata": {
    "collapsed": true
   },
   "outputs": [],
   "source": [
    "def compare_statistics(values,base,ori_stat,alpha = 0.05):\n",
    "    area_total = sum(values*(base[1:]-base[0:-1]))\n",
    "    if ori_stat > 0:\n",
    "        area_statistic = sum(values[base[1:]>ori_stat] * (base[1:]-base[0:-1])[base[1:]>ori_stat])/area_total\n",
    "    else:\n",
    "        area_statistic = sum(values[base[1:]<ori_stat] * (base[1:]-base[0:-1])[base[1:]<ori_stat])/area_total\n",
    "    print('Area total                 = ' + str(1.0))\n",
    "    print('Area statistic (shuffling) = ' + str(area_statistic))\n",
    "    print('Area p_value               = ' + str(alpha))"
   ]
  },
  {
   "cell_type": "code",
   "execution_count": 56,
   "metadata": {
    "collapsed": false
   },
   "outputs": [
    {
     "data": {
      "text/plain": [
       "<matplotlib.lines.Line2D at 0x10d056ad0>"
      ]
     },
     "execution_count": 56,
     "metadata": {},
     "output_type": "execute_result"
    },
    {
     "data": {
      "image/png": "[encoded data removed]",
      "text/plain": [
       "<matplotlib.figure.Figure at 0x10d028890>"
      ]
     },
     "metadata": {},
     "output_type": "display_data"
    }
   ],
   "source": [
    "n, bins, patches = plt.hist(planets_mean, bins =100, normed=1.0, facecolor='blue', alpha=0.5)\n",
    "values, base = np.histogram(planets_mean, bins = 100)\n",
    "plt.axvline(ori_mean_planets, color='k', linestyle='dashed', linewidth=2)"
   ]
  },
  {
   "cell_type": "code",
   "execution_count": 57,
   "metadata": {
    "collapsed": false
   },
   "outputs": [
    {
     "name": "stdout",
     "output_type": "stream",
     "text": [
      "Area total                 = 1.0\n",
      "Area statistic (shuffling) = 0.21254\n",
      "Area p_value               = 0.05\n"
     ]
    }
   ],
   "source": [
    "compare_statistics(values,base,ori_mean_planets,alpha = 0.05)"
   ]
  },
  {
   "cell_type": "code",
   "execution_count": 58,
   "metadata": {
    "collapsed": false
   },
   "outputs": [
    {
     "data": {
      "text/plain": [
       "<matplotlib.lines.Line2D at 0x1023715d0>"
      ]
     },
     "execution_count": 58,
     "metadata": {},
     "output_type": "execute_result"
    },
    {
     "data": {
      "image/png": "[encoded data removed]",
      "text/plain": [
       "<matplotlib.figure.Figure at 0x110db6dd0>"
      ]
     },
     "metadata": {},
     "output_type": "display_data"
    }
   ],
   "source": [
    "n, bins, patches = plt.hist(efficiency_mean, bins =100, normed=1.0, facecolor='green', alpha=0.5)\n",
    "values, base = np.histogram(efficiency_mean, bins = 100)\n",
    "plt.axvline(ori_mean_efficiency, color='k', linestyle='dashed', linewidth=2)"
   ]
  },
  {
   "cell_type": "code",
   "execution_count": 59,
   "metadata": {
    "collapsed": false
   },
   "outputs": [
    {
     "name": "stdout",
     "output_type": "stream",
     "text": [
      "Area total                 = 1.0\n",
      "Area statistic (shuffling) = 0.27754\n",
      "Area p_value               = 0.05\n"
     ]
    }
   ],
   "source": [
    "compare_statistics(values,base,ori_mean_efficiency,alpha = 0.05)"
   ]
  },
  {
   "cell_type": "code",
   "execution_count": 60,
   "metadata": {
    "collapsed": false
   },
   "outputs": [
    {
     "data": {
      "text/plain": [
       "<matplotlib.lines.Line2D at 0x110936350>"
      ]
     },
     "execution_count": 60,
     "metadata": {},
     "output_type": "execute_result"
    },
    {
     "data": {
      "image/png": "[encoded data removed]",
      "text/plain": [
       "<matplotlib.figure.Figure at 0x102396610>"
      ]
     },
     "metadata": {},
     "output_type": "display_data"
    }
   ],
   "source": [
    "n, bins, patches = plt.hist(mass_mean, bins =100, normed=1.0, facecolor='red', alpha=0.5)\n",
    "values, base = np.histogram(mass_mean, bins = 100)\n",
    "plt.axvline(ori_mean_mass, color='k', linestyle='dashed', linewidth=2)"
   ]
  },
  {
   "cell_type": "code",
   "execution_count": 61,
   "metadata": {
    "collapsed": false
   },
   "outputs": [
    {
     "name": "stdout",
     "output_type": "stream",
     "text": [
      "Area total                 = 1.0\n",
      "Area statistic (shuffling) = 0.1611\n",
      "Area p_value               = 0.05\n"
     ]
    }
   ],
   "source": [
    "compare_statistics(values,base,ori_mean_mass,alpha = 0.05)"
   ]
  },
  {
   "cell_type": "markdown",
   "metadata": {},
   "source": [
    "# Conclusion\n",
    "1. To reproduce the number of planets in a solar system, the best option is to use a neural network (R2=0.693), but polynomial regressions (order 2 or 3) also offer fair predictions (R2~0.60).\n",
    "2. To reproduce the total mass of a solar system, the best option is to generate several classes and to classify the elements using random forests (hits ~43%). Otherwise, a neural network may also offer suitable results (R2=0.250).\n",
    "3. To reproduce the mass efficiency of a solar system, the best option is to use a neural network (R2=0.256). Otherwise, it's possible to generate several classes and classify the elements using a random forest (hits ~23%).\n",
    "4. The parameters with a biggest impact on the number of planets are:\n",
    "    a. Iteration index \n",
    "    b. Disk mass\n",
    "    c. Gas dissipation timescale\n",
    "    d. Stellar mass\n",
    "5. The parameters with a biggest impact on the total mass are:\n",
    "    a. Maximum dust surface  \n",
    "    b. Disk mass\n",
    "    c. Metallicity wrt solar\n",
    "    d. Toomre Q at min radius\n",
    "6. The parameters with a biggest impact on the mass efficiency are:\n",
    "    a. Maximum dust surface density \n",
    "    b. Metallicity wrt solar\n",
    "    c. Iteration index\n",
    "7. Based on the \"High and Low Segmentation\" section, the hiphotesis to probe were:\n",
    "\n",
    "        Ho: 'There is not difference between sets'\n",
    "        RHo: 'There is difference between sets'\n",
    "\n",
    "        In all variables we can't reject the hypothesis null with a least 5 % of significance. We can say that there is a statistical difference between sets."
   ]
  },
  {
   "cell_type": "code",
   "execution_count": null,
   "metadata": {
    "collapsed": true
   },
   "outputs": [],
   "source": []
  }
 ],
 "metadata": {
  "anaconda-cloud": {},
  "kernelspec": {
   "display_name": "Python 2",
   "language": "python",
   "name": "python2"
  },
  "language_info": {
   "codemirror_mode": {
    "name": "ipython",
    "version": 2
   },
   "file_extension": ".py",
   "mimetype": "text/x-python",
   "name": "python",
   "nbconvert_exporter": "python",
   "pygments_lexer": "ipython2",
   "version": "2.7.13"
  }
 },
 "nbformat": 4,
 "nbformat_minor": 0
}
